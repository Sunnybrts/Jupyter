{
 "cells": [
  {
   "cell_type": "markdown",
   "id": "e27b2ce9",
   "metadata": {},
   "source": [
    "# Data Science Tools & Ecosystem"
   ]
  },
  {
   "cell_type": "markdown",
   "id": "c1aaa796",
   "metadata": {},
   "source": [
    "In this Notebook Data Science Tools & Ecosystems are summarised.We can use this notebook as a reference to revise the working of various elements in a jupyter notebook."
   ]
  },
  {
   "cell_type": "markdown",
   "id": "dd4c97b0",
   "metadata": {},
   "source": [
    "**Objectives:**\n",
    "- List Popular Languages of Data Science\n",
    "- List commonly used libraries for Data Science\n",
    "- List popular data science tools\n",
    "- Execute some examples of arithmetic expressions"
   ]
  },
  {
   "cell_type": "markdown",
   "id": "3d8a7269",
   "metadata": {},
   "source": [
    "Some of the popular languages that data scientists user are: \n",
    "1. Python\n",
    "2. R\n",
    "3. SQL\n",
    "4. Java\n",
    "5. Scala"
   ]
  },
  {
   "cell_type": "markdown",
   "id": "9cfc2cf6",
   "metadata": {},
   "source": [
    "Some of the commonly used libraries used by Data Scientists include:\n",
    "\n",
    "1. Matplotlib \n",
    "2. Seaborn\n",
    "3. Scikit learn \n",
    "4. NumP"
   ]
  },
  {
   "cell_type": "markdown",
   "id": "c29d45d2",
   "metadata": {},
   "source": [
    "| Data Science Tools |\n",
    "|------|\n",
    "| Jupyter |\n",
    "| R Studio |\n",
    "| Zeppelin |"
   ]
  },
  {
   "cell_type": "markdown",
   "id": "3ef10e95",
   "metadata": {},
   "source": [
    "### Below are the few examples of evaluating arithmetic expressions in Python"
   ]
  },
  {
   "cell_type": "code",
   "execution_count": 2,
   "id": "ab438a98",
   "metadata": {},
   "outputs": [
    {
     "data": {
      "text/plain": [
       "17"
      ]
     },
     "execution_count": 2,
     "metadata": {},
     "output_type": "execute_result"
    }
   ],
   "source": [
    "#This is a simple arithmetic expression too multiply then add integers\n",
    "(3*4)+5"
   ]
  },
  {
   "cell_type": "code",
   "execution_count": 4,
   "id": "57d66eb0",
   "metadata": {},
   "outputs": [
    {
     "data": {
      "text/plain": [
       "3.3333333333333335"
      ]
     },
     "execution_count": 4,
     "metadata": {},
     "output_type": "execute_result"
    }
   ],
   "source": [
    "#This will converts 200 minutes to hour by dividing it by 60\n",
    "(200/60)"
   ]
  },
  {
   "cell_type": "markdown",
   "id": "62b3d503",
   "metadata": {},
   "source": [
    "##  Author\n",
    "Swetab Sunny"
   ]
  },
  {
   "cell_type": "code",
   "execution_count": null,
   "id": "3692a329",
   "metadata": {},
   "outputs": [],
   "source": []
  }
 ],
 "metadata": {
  "kernelspec": {
   "display_name": "Python 3 (ipykernel)",
   "language": "python",
   "name": "python3"
  },
  "language_info": {
   "codemirror_mode": {
    "name": "ipython",
    "version": 3
   },
   "file_extension": ".py",
   "mimetype": "text/x-python",
   "name": "python",
   "nbconvert_exporter": "python",
   "pygments_lexer": "ipython3",
   "version": "3.11.5"
  }
 },
 "nbformat": 4,
 "nbformat_minor": 5
}
